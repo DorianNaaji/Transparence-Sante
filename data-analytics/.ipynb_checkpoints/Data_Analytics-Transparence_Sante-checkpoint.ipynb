{
 "cells": [
  {
   "cell_type": "markdown",
   "metadata": {},
   "source": [
    "## Myriam BENALI\n",
    "## Cécile BESSON\n",
    "## Ineida CARDOSO MORENO\n",
    "## Dorian NAAJI\n",
    "## Smaïline VIRARAGAVANE"
   ]
  },
  {
   "cell_type": "markdown",
   "metadata": {},
   "source": [
    "# <span style=\"color:red\">Data Analytics</span>"
   ]
  },
  {
   "cell_type": "markdown",
   "metadata": {},
   "source": [
    "### <span style=\"color:blue\">L'objectif étant de résoudre un problème d’extraction de connaissances à partir de nos données (profiling, classification, regression, etc .) : Python Scikit learn,Dataiku, R, Shiny, etc. </span>"
   ]
  },
  {
   "cell_type": "code",
   "execution_count": null,
   "metadata": {},
   "outputs": [],
   "source": []
  }
 ],
 "metadata": {
  "kernelspec": {
   "display_name": "Python 3",
   "language": "python",
   "name": "python3"
  },
  "language_info": {
   "codemirror_mode": {
    "name": "ipython",
    "version": 3
   },
   "file_extension": ".py",
   "mimetype": "text/x-python",
   "name": "python",
   "nbconvert_exporter": "python",
   "pygments_lexer": "ipython3",
   "version": "3.7.3"
  }
 },
 "nbformat": 4,
 "nbformat_minor": 2
}
